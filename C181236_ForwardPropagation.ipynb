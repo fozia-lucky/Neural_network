{
  "nbformat": 4,
  "nbformat_minor": 0,
  "metadata": {
    "colab": {
      "name": "C181236_ForwardPropagation.ipynb",
      "provenance": [],
      "authorship_tag": "ABX9TyOKZRaL4BJtEzpoEJ6jYjjZ",
      "include_colab_link": true
    },
    "kernelspec": {
      "name": "python3",
      "display_name": "Python 3"
    },
    "language_info": {
      "name": "python"
    }
  },
  "cells": [
    {
      "cell_type": "markdown",
      "metadata": {
        "id": "view-in-github",
        "colab_type": "text"
      },
      "source": [
        "<a href=\"https://colab.research.google.com/github/fozia-lucky/Neural_network/blob/main/C181236_ForwardPropagation.ipynb\" target=\"_parent\"><img src=\"https://colab.research.google.com/assets/colab-badge.svg\" alt=\"Open In Colab\"/></a>"
      ]
    },
    {
      "cell_type": "markdown",
      "source": [
        "Import Library\n"
      ],
      "metadata": {
        "id": "y95mW8A2ChI2"
      }
    },
    {
      "cell_type": "code",
      "execution_count": 30,
      "metadata": {
        "id": "O9S9vOQk8FDM"
      },
      "outputs": [],
      "source": [
        "import numpy as np"
      ]
    },
    {
      "cell_type": "code",
      "source": [
        "def calc_node_input(weight , input , bias):\n",
        "  hidden_input = np.dot(weight,input)+bias\n",
        "  return hidden_input"
      ],
      "metadata": {
        "id": "4vgWKJUE8MDx"
      },
      "execution_count": 31,
      "outputs": []
    },
    {
      "cell_type": "markdown",
      "source": [
        "Activation Function"
      ],
      "metadata": {
        "id": "k9KOivMPDhje"
      }
    },
    {
      "cell_type": "code",
      "source": [
        "def sigmoid(input_value):\n",
        "  return 1/(1 + np.exp(-input_value))"
      ],
      "metadata": {
        "id": "LIrhpvt88UNh"
      },
      "execution_count": 32,
      "outputs": []
    },
    {
      "cell_type": "markdown",
      "source": [
        "Initializing weight,input,bias "
      ],
      "metadata": {
        "id": "HnvIueLyDpkx"
      }
    },
    {
      "cell_type": "code",
      "source": [
        "w1 = 0.1\n",
        "w2 = 0.2\n",
        "w3 = 0.3\n",
        "w4 = 0.4\n",
        "w5 = 0.5\n",
        "w6 = 0.6\n",
        "\n",
        "b1 = 0.5\n",
        "b2 = 0.5\n",
        "b3 = 0.5\n",
        "x1 = 0.3\n",
        "x2 = 0.5\n",
        "y = 1\n"
      ],
      "metadata": {
        "id": "cxs2DatU9QVr"
      },
      "execution_count": 33,
      "outputs": []
    },
    {
      "cell_type": "markdown",
      "source": [
        "Calculating Hidden layer Output"
      ],
      "metadata": {
        "id": "O_GVBENpD-F6"
      }
    },
    {
      "cell_type": "code",
      "source": [
        "w_h11 =[w1 , w2]\n",
        "x_h11 =[x1 , x2] \n",
        "b_h11 = b1\n",
        "h11_input = calc_node_input(w_h11,x_h11,b_h11)\n",
        "print(h11_input)\n",
        "h11_output = sigmoid(h11_input)\n",
        "print(h11_output)"
      ],
      "metadata": {
        "colab": {
          "base_uri": "https://localhost:8080/"
        },
        "id": "X6TQYKWg9T3R",
        "outputId": "f05f5e85-7f77-4de3-dd60-1181159d8c2a"
      },
      "execution_count": 34,
      "outputs": [
        {
          "output_type": "stream",
          "name": "stdout",
          "text": [
            "0.63\n",
            "0.6524894621927444\n"
          ]
        }
      ]
    },
    {
      "cell_type": "code",
      "source": [
        "w_h12 =[w3 , w4]\n",
        "x_h12 =[x1 , x2] \n",
        "b_h12 = b2\n",
        "h12_input = calc_node_input(w_h12,x_h12,b_h12)\n",
        "print(h12_input)\n",
        "h12_output = sigmoid(h11_input)\n",
        "print(h12_output)"
      ],
      "metadata": {
        "colab": {
          "base_uri": "https://localhost:8080/"
        },
        "id": "l87SM7f9-CKS",
        "outputId": "0870954f-e346-4438-ad7a-01e5f36cd344"
      },
      "execution_count": 35,
      "outputs": [
        {
          "output_type": "stream",
          "name": "stdout",
          "text": [
            "0.79\n",
            "0.6524894621927444\n"
          ]
        }
      ]
    },
    {
      "cell_type": "code",
      "source": [
        "w_h31 =[w5 , w6]\n",
        "x_h13 =[h11_output, h12_output] \n",
        "b_h13 = b3\n",
        "h31_input = calc_node_input(w_h31,x_h13,b_h13)\n",
        "print(h31_input)\n",
        "h31_output = sigmoid(h31_input)\n",
        "print(h31_output)"
      ],
      "metadata": {
        "colab": {
          "base_uri": "https://localhost:8080/"
        },
        "id": "0LqFfBXk9Yl7",
        "outputId": "90f63628-1168-4137-d59a-282c7ad85d9c"
      },
      "execution_count": 36,
      "outputs": [
        {
          "output_type": "stream",
          "name": "stdout",
          "text": [
            "1.2177384084120189\n",
            "0.7716653064483769\n"
          ]
        }
      ]
    },
    {
      "cell_type": "markdown",
      "source": [
        "Calculating cross entrophy error"
      ],
      "metadata": {
        "id": "mGKkLkbcELx0"
      }
    },
    {
      "cell_type": "code",
      "source": [
        "def calc_error(y):\n",
        "  if y == 1:\n",
        "    return (np.log(h31_output))*-1\n",
        "  else:\n",
        "     return (np.log(1-h31_output))*-1\n"
      ],
      "metadata": {
        "id": "bFCnaD-IBCPi"
      },
      "execution_count": 38,
      "outputs": []
    },
    {
      "cell_type": "code",
      "source": [
        "error = calc_error(y)\n",
        "print(\"error\",error)"
      ],
      "metadata": {
        "colab": {
          "base_uri": "https://localhost:8080/"
        },
        "id": "lNVSXa2aCLBS",
        "outputId": "5ef122a8-4ccd-4e47-95bd-47fe884d1bf4"
      },
      "execution_count": 39,
      "outputs": [
        {
          "output_type": "stream",
          "name": "stdout",
          "text": [
            "error 0.2592043638333532\n"
          ]
        }
      ]
    }
  ]
}